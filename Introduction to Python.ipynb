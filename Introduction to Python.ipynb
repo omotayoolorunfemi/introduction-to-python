{
 "cells": [
  {
   "cell_type": "code",
   "execution_count": null,
   "metadata": {
    "scrolled": false
   },
   "outputs": [],
   "source": [
    "import this"
   ]
  },
  {
   "cell_type": "markdown",
   "metadata": {},
   "source": [
    "## Introduction to Python\n",
    "\n",
    "#### 1. Accepting inputs and printing outputs"
   ]
  },
  {
   "cell_type": "code",
   "execution_count": null,
   "metadata": {},
   "outputs": [],
   "source": [
    "print(\"Hello World\")"
   ]
  },
  {
   "cell_type": "markdown",
   "metadata": {},
   "source": [
    "#### 2. Printing multiple lines"
   ]
  },
  {
   "cell_type": "code",
   "execution_count": null,
   "metadata": {},
   "outputs": [],
   "source": [
    "print(\"Beautiful is better than Ugly\")\n",
    "print(\"Explicit is better than implicit\")\n",
    "print(\"Simple is better than complex\")"
   ]
  },
  {
   "cell_type": "markdown",
   "metadata": {},
   "source": [
    "### Refactor code 3 above\n",
    "#### How to print on multiple lines using a single line of code"
   ]
  },
  {
   "cell_type": "code",
   "execution_count": null,
   "metadata": {},
   "outputs": [],
   "source": [
    "print(\"\"\"Beautiful is better than ugly\\n\n",
    "Explicit is better than implicit\\n\n",
    "Simple is better than complex\"\"\")"
   ]
  },
  {
   "cell_type": "markdown",
   "metadata": {},
   "source": [
    "## Printing Variables\n",
    "#### A variable is a user-defined name used to hold a value in a code"
   ]
  },
  {
   "cell_type": "code",
   "execution_count": null,
   "metadata": {},
   "outputs": [],
   "source": [
    "b = 5\n",
    "print(b)"
   ]
  },
  {
   "cell_type": "code",
   "execution_count": null,
   "metadata": {},
   "outputs": [],
   "source": [
    "x,y,z = 10,15,20\n",
    "print(x, \"\\n\", y, \"\\n\", z)"
   ]
  },
  {
   "cell_type": "code",
   "execution_count": null,
   "metadata": {},
   "outputs": [],
   "source": [
    "x,y,z = 34,56,35\n",
    "answer = x+y+z\n",
    "print(\"The sum of the three numbers=\", answer)"
   ]
  },
  {
   "cell_type": "markdown",
   "metadata": {},
   "source": [
    "## 1.1 Accepting Inputs"
   ]
  },
  {
   "cell_type": "markdown",
   "metadata": {},
   "source": [
    "## Quick Quiz\n",
    "\n",
    "### Write a python program to accept three numbers from the user and output the sum of the numbers. use vs code to write your program and run the script from the command prompt.\n",
    "\n",
    "\n",
    "Case 1: sum_of_numbers = int(first_number + second_number + third_number) (WRONG)\n",
    "\n",
    "Case 2: sum_of_number = int(first_number) + int(second_number) + int(third_number) (CORRECT)"
   ]
  },
  {
   "cell_type": "markdown",
   "metadata": {},
   "source": [
    "### Rules Guiding creation of variable names\n",
    "\n",
    "1. A variable name must not contain space\n",
    "first number (wrong)\n",
    "first_number (right)\n",
    "\n",
    "you can do this:\n",
    "\n",
    "firstnumber = 5 (right, but not recommended)\n",
    "\n",
    "2. A variable cannot start with a number\n",
    "\n",
    "#### Wrong\n",
    "5x = 9\n",
    "5th_student = \"chima\"\n",
    "22_spot = 7\n",
    "\n",
    "#### Correct\n",
    "\n",
    "x5 = 9\n",
    "student_5 = \"chim\"\n",
    "spot_22 = 7\n",
    "\n",
    "3. A variable name should not be a recognized python keyword e.g. print, input, int, def, class....."
   ]
  },
  {
   "cell_type": "markdown",
   "metadata": {},
   "source": [
    "## DATA TYPE\n",
    "\n",
    "A data type is used to describe the format or nature of the data input into the program.\n",
    "\n",
    "### NOT ACCEPTED\n",
    "data - datum\n",
    "\n",
    "software - softwares\n",
    "\n",
    "hardware - hardwares\n",
    "\n",
    "input - inputted.\n",
    "\n",
    "\n",
    "### DATA TYPES IN PYTHON\n",
    "\n",
    "1. int (whole number e.g: 2, 5, 1000)\n",
    "2. float (a decimal number e.g; 0.45, 4.56, 0.0006)\n",
    "3. string (any set of characters enclosed in a quote. e.g; \"samuel\", \"olorunfemi is a kind teacher\", \"the sum of the numbers are =\", \"12345\")\n",
    "4. list\n",
    "5. turple\n",
    "6. dictionary\n",
    "7. boolean"
   ]
  },
  {
   "cell_type": "markdown",
   "metadata": {},
   "source": [
    "### ASSIGNMENT\n",
    "\n",
    "1. Write a program to accept five numbers from the user and print out there sum and the average\n",
    "2. write a program to accept two float value from the user and output the result when the first number is divided by the second number."
   ]
  },
  {
   "cell_type": "code",
   "execution_count": null,
   "metadata": {},
   "outputs": [],
   "source": [
    "#A list\n",
    "#A list consists of comma seperated values enclosed in a square bracket\n",
    "\n",
    "m = [2,4,6,8,10]\n",
    "print(m)\n",
    "\n",
    "m2 = [2,\n",
    "     3,\n",
    "     4,\n",
    "     5,\n",
    "     6]\n",
    "print(m2)\n",
    "\n",
    "\n",
    "m3 = [5, 5.0, 3.45, \"Hello\", True]\n",
    "print(m3)\n",
    "\n"
   ]
  },
  {
   "cell_type": "markdown",
   "metadata": {},
   "source": [
    "A list is zero-indexed\n",
    "\n",
    "The first item on the list has a place value of zero."
   ]
  },
  {
   "cell_type": "code",
   "execution_count": null,
   "metadata": {},
   "outputs": [],
   "source": [
    "n = [\n",
    "    [2,4,6,8],\n",
    "    [\"Good Morning\", 3, 5, 7],\n",
    "    [0.88, 3.56, False],\n",
    "]\n",
    "\n",
    "print(n)"
   ]
  },
  {
   "cell_type": "markdown",
   "metadata": {},
   "source": [
    "### Accessing list items\n",
    "\n",
    "A slice is :, it is used to print a range of number in a list"
   ]
  },
  {
   "cell_type": "code",
   "execution_count": null,
   "metadata": {},
   "outputs": [],
   "source": [
    "x = [5, 9, 15, 20, 25, 50, 55.65]\n",
    "print(\"The whole list, x = \", x)\n",
    "print(\"The first item on the list = \", x[0])\n",
    "print(\"The fifth item on the list = \", x[4])\n",
    "print(\"The first two items on the list = \", x[:2])\n",
    "print(\"The last two items on the list = \", x[5:])\n",
    "print(\"duplicate list = \", x*2)"
   ]
  },
  {
   "cell_type": "markdown",
   "metadata": {},
   "source": [
    "## ASSIGN: Create a list of 10 integers. Using the List, find the solution to the following problems;\n",
    "\n",
    "1. Print the first item\n",
    "2. print the first three items\n",
    "3. print the next 4 items after the fifth item\n",
    "4. print the sum of the first item and the last item\n",
    "5. print the result when each item is multiplied by 2."
   ]
  },
  {
   "cell_type": "code",
   "execution_count": null,
   "metadata": {},
   "outputs": [],
   "source": [
    "x = [1, 2, 3, 4, 5, 6, 7, 8, 9, 10]\n",
    "\n",
    "print(\"The first item on the list is = \", x[0])\n",
    "print(\"The first three items on the list are = \", x[:3])\n",
    "print(\"The next 4 items after the fifth item are = \", x[6:])\n",
    "print(\"The sum of the first and last items on the list is = \", x[0] + x[9])\n",
    "print(\"The result when each item is multiplied by 2 is = \", x[0]*2, x[1]*2, x[2]*2, x[3]*2, x[4]*2, x[5]*2, x[6]*2, x[7]*2, x[8]*2, x[9]*2)"
   ]
  },
  {
   "cell_type": "markdown",
   "metadata": {},
   "source": [
    "# Conditionals with Python"
   ]
  },
  {
   "cell_type": "markdown",
   "metadata": {},
   "source": [
    "Program codes follow an order of execution called CONTROL STRUCTURE.\n",
    "\n",
    "There are three basic types of control structures in programming. They are:\n",
    "1. Sequential control structure\n",
    "2. Selection control structure\n",
    "3. Iteration control structure\n",
    "\n",
    "## Sequential Control Structure\n",
    "This is when program codes are meant to run sequentially from top to bottom without any interruptions or branching.\n",
    "(All the programs we have written so far has followed this structure because they were simply run in a linear format).\n",
    "\n",
    "\n",
    "## selection Control Structure\n",
    "This is when prrogram codes are made to execute based on a condition. A code or group of codes could be made to execute if a given condition is true. This type of structure enables our program to mimic decision making.\n",
    "\n",
    "Generally, selection structures are implemented using <b>if</b>, <b>if else</b> and <b>if else if else</b> statements based on the number of conditions to be implemented.\n",
    "\n",
    "if = one condition, no alternative action\n",
    "if else = one condition with alternative action\n",
    "if else if else = multiple condition with alternative action."
   ]
  },
  {
   "cell_type": "code",
   "execution_count": null,
   "metadata": {},
   "outputs": [],
   "source": [
    "#use of if statement\n",
    "\n",
    "x = 5\n",
    "y = 12\n",
    "\n",
    "if x < y:\n",
    "    print(y)"
   ]
  },
  {
   "cell_type": "code",
   "execution_count": null,
   "metadata": {},
   "outputs": [],
   "source": [
    "#use of if else statement\n",
    "\n",
    "x=20\n",
    "y=12\n",
    "\n",
    "if x<y:\n",
    "    print(y)\n",
    "else:\n",
    "    print(x)\n",
    "print(\"Thank you for coming to class\")"
   ]
  },
  {
   "cell_type": "code",
   "execution_count": null,
   "metadata": {},
   "outputs": [],
   "source": [
    "#use of if and elif\n",
    "\n",
    "x = 10\n",
    "y = 15\n",
    "\n",
    "if x ==0:\n",
    "    print(x, \"is undefined\")\n",
    "elif x<0:\n",
    "    print(x, \"is a negative number\")\n",
    "elif x<y:\n",
    "    print(y)\n",
    "elif x>y:\n",
    "    print(x)\n",
    "else:\n",
    "    print(x, \"is definitely equal to\", y)\n",
    "    \n",
    "#elif = else if\n",
    "#once one value/line of code is satisfied, it ignores the rest"
   ]
  },
  {
   "cell_type": "markdown",
   "metadata": {},
   "source": [
    "## 1. Write a python program to accept two integer value from the user and output the greater number.\n",
    "\n",
    "## 2. Write a program to accept three float values from the user and print the result when the smallest number divides the other two numbers respectively.\n",
    "\n",
    "## 3. Write a program to accept ten integer values from the user to output only the even number and output how many even numbers are there.\n"
   ]
  },
  {
   "cell_type": "code",
   "execution_count": null,
   "metadata": {},
   "outputs": [],
   "source": [
    "#Number one;\n",
    "\n",
    "a = int(input(\"Enter the first number = \"))\n",
    "b = int(input(\"Enter the second number = \"))\n",
    "if a<b:\n",
    "    print(b)\n",
    "else:\n",
    "    print(a)"
   ]
  },
  {
   "cell_type": "code",
   "execution_count": null,
   "metadata": {},
   "outputs": [],
   "source": [
    "#Number two:\n",
    "\n",
    "a = float(input(\"Enter the first float value =\"))\n",
    "b = float(input(\"Enter the second float value =\"))\n",
    "c = float(input(\"Enter the third float value =\"))\n",
    "if a<b<c:\n",
    "    print(\"The result is =\", a/b , a/c)\n",
    "elif b<a<c:\n",
    "    print(\"The result is =\", b/a , b/c)\n",
    "elif c<a<b:\n",
    "    print(\"The result is =\", c/a, c/b)\n",
    "    "
   ]
  },
  {
   "cell_type": "code",
   "execution_count": null,
   "metadata": {},
   "outputs": [],
   "source": [
    "#Number Three:\n",
    "#%(modulus): an operator that returns the remainder.\n",
    "\n",
    "a = int(input(\"Enter the first number = \"))\n",
    "b = int(input(\"Enter the second number = \"))\n",
    "c = int(input(\"Enter the third number = \"))\n",
    "d = int(input(\"Enter the fourth number = \"))\n",
    "e = int(input(\"Enter the fifth number = \"))\n",
    "f = int(input(\"Enter the sixth number = \"))\n",
    "g = int(input(\"Enter the seventh number = \"))\n",
    "h = int(input(\"Enter the eight number = \"))\n",
    "i = int(input(\"Enter the ninth number = \"))\n",
    "j = int(input(\"Enter the tenth number = \"))\n",
    "\n",
    "if a % 2 == 0:\n",
    "    print(a)\n",
    "if b % 2 == 0:\n",
    "    print(b)\n",
    "if c % 2 == 0:\n",
    "    print(c)\n",
    "if d % 2 == 0:\n",
    "    print(d)\n",
    "if e % 2 == 0:\n",
    "    print(e)\n",
    "if f % 2 == 0:\n",
    "    print(f)\n",
    "if g % 2 == 0:\n",
    "    print(g)\n",
    "if h % 2 == 0:\n",
    "    print(h)\n",
    "if i % 2 == 0:\n",
    "    print(i)\n",
    "if j % 2 == 0:\n",
    "    print(j)\n"
   ]
  },
  {
   "cell_type": "markdown",
   "metadata": {},
   "source": [
    "# Looping\n",
    "\n",
    "Looping is making a program run repeatitively.\n",
    "\n",
    "Types of loop;\n",
    "\n",
    "1. For loop\n",
    "2. While loop"
   ]
  },
  {
   "cell_type": "code",
   "execution_count": null,
   "metadata": {},
   "outputs": [],
   "source": [
    "#FOR LOOP\n",
    "for x in range (10):\n",
    "    print(\"Hello\")"
   ]
  },
  {
   "cell_type": "code",
   "execution_count": null,
   "metadata": {},
   "outputs": [],
   "source": [
    "for x in range (10):\n",
    "    number = int(input(\"Enter a number = \"))"
   ]
  },
  {
   "cell_type": "code",
   "execution_count": null,
   "metadata": {},
   "outputs": [],
   "source": [
    "for x in range(0, 10, 2):\n",
    "    print(x)"
   ]
  },
  {
   "cell_type": "code",
   "execution_count": null,
   "metadata": {},
   "outputs": [],
   "source": [
    "for x in range (4):\n",
    "    print(\"Y\" * 7)"
   ]
  },
  {
   "cell_type": "code",
   "execution_count": null,
   "metadata": {},
   "outputs": [],
   "source": [
    "for i in range (4):\n",
    "    print(i)"
   ]
  },
  {
   "cell_type": "code",
   "execution_count": null,
   "metadata": {},
   "outputs": [],
   "source": [
    "for i in range (4):\n",
    "    print(\"*\" * (i+1))"
   ]
  },
  {
   "cell_type": "code",
   "execution_count": null,
   "metadata": {},
   "outputs": [],
   "source": [
    "foods = ['rice', 'beans', 'garri', 'orange']\n",
    "for x in foods:\n",
    "    print(x)"
   ]
  },
  {
   "cell_type": "code",
   "execution_count": null,
   "metadata": {},
   "outputs": [],
   "source": [
    "foods = ['rice', 'beans', 'garri', 'orange']\n",
    "for x in foods:\n",
    "    print(x)\n",
    "    if x == \"beans\":\n",
    "        print(\"Caught you\")"
   ]
  },
  {
   "cell_type": "markdown",
   "metadata": {},
   "source": [
    "## Assignment\n",
    "\n",
    "1. Write a program that will print your name 50 times\n",
    "2. Write a program that asks the user for their name and how many times to print it. the program should print out the users name the specified number of times.\n",
    "3. Writa a program that uses a for loop to prit the numbers 100, 98...4,2"
   ]
  },
  {
   "cell_type": "code",
   "execution_count": null,
   "metadata": {},
   "outputs": [],
   "source": [
    "#Number one:\n",
    "\n",
    "for x in range (50):\n",
    "    print(\"Omotayo, Olorunfemi\")"
   ]
  },
  {
   "cell_type": "code",
   "execution_count": null,
   "metadata": {},
   "outputs": [],
   "source": [
    "#Number two\n",
    "for x in range (2):\n",
    "    name = input(\"What is your name = \")\n",
    "    print(name * 5)"
   ]
  },
  {
   "cell_type": "code",
   "execution_count": null,
   "metadata": {},
   "outputs": [],
   "source": [
    "#Number three\n",
    "\n",
    "for x in range(2, 100, 2):\n",
    "    print(x)"
   ]
  },
  {
   "cell_type": "markdown",
   "metadata": {},
   "source": [
    "## Class Work\n",
    "\n",
    "1. A store charges $12 per item if you buy less than 10 items. If you buy between \n",
    "10 and 99 items, the cost is $10 per item. If you buy 100 or more items, \n",
    "the cost is $7 per item. Write a program that asks the user how many items \n",
    "they are buying and prints the total cost.\n",
    "\n",
    "2. Write a program that asks the user how many credits they have taken. If they have taken 23\n",
    "or less, print that the student is a freshman. If they have taken between 24 and 53, \n",
    "print that they are a sophomore. The range for juniors is 54 to 83, and for\n",
    " seniors it is 84 and over.\n",
    " \n",
    "3. A year is a leap year if it is divisible by 4, except that years divisible \n",
    " by 100 are not leap years\n",
    "unless they are also divisible by 400. Ask the user to enter a year, and, determine if \n",
    "it is a leap year or not"
   ]
  },
  {
   "cell_type": "code",
   "execution_count": null,
   "metadata": {},
   "outputs": [],
   "source": [
    "#Number two\n",
    "\n",
    "c = int(input(\"How many credit have you taken = \"))\n",
    "if c<23:\n",
    "    print(\"The student is a freshman\")\n",
    "elif c>=23 and c<=53:\n",
    "    print(\"The student is a sophomore\")\n",
    "elif c>=54 and c<83:\n",
    "    print(\"The student is a Junior\")\n",
    "elif c>83:\n",
    "    print(\"The student is a Senior\")\n",
    "else:\n",
    "    print(\"You are not a student\")\n",
    "\n",
    "    "
   ]
  },
  {
   "cell_type": "code",
   "execution_count": null,
   "metadata": {},
   "outputs": [],
   "source": [
    "i = int(input(\"The number of items to be bought = \"))\n",
    "if i<10:\n",
    "    print(\"The cost of each item is = $\", 12*i)\n",
    "elif i>=10 and i<=99:\n",
    "    print(\"The cost of each item is = $\", 10*i)\n",
    "elif i>=100:\n",
    "    print(\"The cost of each item is = $\", 7*i)\n",
    "else:\n",
    "    print(\"The cost cannot be determined\")\n",
    "    "
   ]
  },
  {
   "cell_type": "code",
   "execution_count": null,
   "metadata": {},
   "outputs": [],
   "source": [
    "y = int(input(\"Enter a year = \"))\n",
    "if y % 4 == 0:\n",
    "    if y % 100 ==0 and y % 400 !=0:\n",
    "        print(y, \"is not a leap year\")\n",
    "    else:\n",
    "        print(y, \"is a leap year\")\n",
    "else:\n",
    "    print(y, \"is not a leap year\")\n",
    "   \n",
    "\n",
    "\n",
    "    "
   ]
  },
  {
   "cell_type": "markdown",
   "metadata": {},
   "source": [
    "scores of students in a test; 3,4,5,6,2,4,1,7,8,9,11,4,5,7\n",
    "write a python program to calculate the;\n",
    "sum\n",
    "mean\n",
    "median\n",
    "std\n",
    "min\n",
    "max"
   ]
  },
  {
   "cell_type": "code",
   "execution_count": 5,
   "metadata": {},
   "outputs": [
    {
     "ename": "SyntaxError",
     "evalue": "invalid syntax (<ipython-input-5-7d344c5f39e0>, line 11)",
     "output_type": "error",
     "traceback": [
      "\u001b[1;36m  File \u001b[1;32m\"<ipython-input-5-7d344c5f39e0>\"\u001b[1;36m, line \u001b[1;32m11\u001b[0m\n\u001b[1;33m    z = x[sum (6:8)]/2\u001b[0m\n\u001b[1;37m                ^\u001b[0m\n\u001b[1;31mSyntaxError\u001b[0m\u001b[1;31m:\u001b[0m invalid syntax\n"
     ]
    }
   ],
   "source": [
    "# x = values given\n",
    "# n = total number of values given\n",
    "\n",
    "x = (1,2,3,4,4,4,5,5,6,7,7,8,9,11)\n",
    "n = len(x)\n",
    "y = sum(x)\n",
    "print(\"The number of values are =\", n)\n",
    "print(\"The sum of x is = \", y)\n",
    "mean = y/n\n",
    "print(\"The mean of the score =\", mean)\n",
    "z = x[sum (6:8)]/2\n",
    "print(\"The median of the scores are =\", z)\n",
    "\n"
   ]
  },
  {
   "cell_type": "code",
   "execution_count": 6,
   "metadata": {},
   "outputs": [
    {
     "name": "stdout",
     "output_type": "stream",
     "text": [
      "sum = 76\n",
      "Total number of items 14\n"
     ]
    }
   ],
   "source": [
    "# SOLUTION\n",
    "\n",
    "data = [3,4,5,6,2,4,1,7,8,9,11,4,5,7]\n",
    "\n",
    "#sum\n",
    "sum = 0\n",
    "counter = 0\n",
    "\n",
    "for item in data:\n",
    "    sum += item # sum = sum + item\n",
    "    counter += 1\n",
    "    \n",
    "print(\"sum =\", sum)\n",
    "print(\"Total number of items\", counter)\n"
   ]
  },
  {
   "cell_type": "code",
   "execution_count": 7,
   "metadata": {},
   "outputs": [
    {
     "name": "stdout",
     "output_type": "stream",
     "text": [
      "mean =  5.428571428571429\n"
     ]
    }
   ],
   "source": [
    "#mean\n",
    "\n",
    "mean = sum/counter\n",
    "print(\"mean = \", mean)"
   ]
  },
  {
   "cell_type": "code",
   "execution_count": 10,
   "metadata": {},
   "outputs": [
    {
     "name": "stdout",
     "output_type": "stream",
     "text": [
      "[1, 2, 3, 4, 4, 4, 5, 5, 6, 7, 7, 8, 9, 11]\n",
      "4\n",
      "3\n"
     ]
    }
   ],
   "source": [
    "#mode\n",
    "\n",
    "#sort data\n",
    "data.sort()\n",
    "print(data)\n",
    "\n",
    "mode_count = 0\n",
    "\n",
    "for item in data:\n",
    "    if data.count(item) > mode_count:\n",
    "        mode_count = data.count(item)\n",
    "        mode = item\n",
    "        \n",
    "print(mode)\n",
    "print(mode_count)\n"
   ]
  },
  {
   "cell_type": "code",
   "execution_count": 11,
   "metadata": {},
   "outputs": [
    {
     "name": "stdout",
     "output_type": "stream",
     "text": [
      "Median 5.0\n"
     ]
    }
   ],
   "source": [
    "#median\n",
    "\n",
    "median = (data[6] + data[7])/2\n",
    "print(\"Median\", median)"
   ]
  },
  {
   "cell_type": "code",
   "execution_count": 12,
   "metadata": {},
   "outputs": [
    {
     "name": "stdout",
     "output_type": "stream",
     "text": [
      "Deviation of x =  19.612244897959187\n",
      "Deviation of x =  31.367346938775515\n",
      "Deviation of x =  37.26530612244898\n",
      "Deviation of x =  39.30612244897959\n",
      "Deviation of x =  41.3469387755102\n",
      "Deviation of x =  43.38775510204081\n",
      "Deviation of x =  43.57142857142857\n",
      "Deviation of x =  43.755102040816325\n",
      "Deviation of x =  44.08163265306122\n",
      "Deviation of x =  46.55102040816326\n",
      "Deviation of x =  49.0204081632653\n",
      "Deviation of x =  55.63265306122448\n",
      "Deviation of x =  68.38775510204081\n",
      "Deviation of x =  99.42857142857142\n",
      "Standard Deviation =  2.665\n"
     ]
    }
   ],
   "source": [
    "#standard deviation\n",
    "\n",
    "dev = 0\n",
    "\n",
    "for item in data:\n",
    "    dev += (item - mean)**2\n",
    "    print(\"Deviation of x = \", dev)\n",
    "    \n",
    "std = (dev/counter)**0.5\n",
    "\n",
    "print(\"Standard Deviation = \", round(std, 3))"
   ]
  },
  {
   "cell_type": "code",
   "execution_count": null,
   "metadata": {},
   "outputs": [],
   "source": []
  }
 ],
 "metadata": {
  "kernelspec": {
   "display_name": "Python 3",
   "language": "python",
   "name": "python3"
  },
  "language_info": {
   "codemirror_mode": {
    "name": "ipython",
    "version": 3
   },
   "file_extension": ".py",
   "mimetype": "text/x-python",
   "name": "python",
   "nbconvert_exporter": "python",
   "pygments_lexer": "ipython3",
   "version": "3.7.3"
  }
 },
 "nbformat": 4,
 "nbformat_minor": 2
}
